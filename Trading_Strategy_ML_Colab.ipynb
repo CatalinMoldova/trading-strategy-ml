{
  "cells": [
    {
      "cell_type": "markdown",
      "metadata": {},
      "source": [
        "# Trading Strategy ML - Google Colab Setup\n",
        "\n",
        "This notebook sets up and runs the Multi-Factor Momentum Trading Strategy with ML Enhancement on Google Colab with GPU support.\n",
        "\n",
        "## Features\n",
        "- GPU-accelerated training\n",
        "- Real-time data collection\n",
        "- Advanced ML models (CNN+LSTM)\n",
        "- Comprehensive backtesting\n",
        "- Performance analysis\n"
      ]
    },
    {
      "cell_type": "markdown",
      "metadata": {},
      "source": [
        "## 1. Setup and Installation\n"
      ]
    },
    {
      "cell_type": "code",
      "execution_count": null,
      "metadata": {},
      "outputs": [],
      "source": [
        "# Check GPU availability\n",
        "import tensorflow as tf\n",
        "print(\"TensorFlow version:\", tf.__version__)\n",
        "print(\"GPU available:\", tf.config.list_physical_devices('GPU'))\n",
        "print(\"CUDA available:\", tf.test.is_built_with_cuda())\n",
        "\n",
        "# Enable GPU memory growth\n",
        "if tf.config.list_physical_devices('GPU'):\n",
        "    try:\n",
        "        for gpu in tf.config.list_physical_devices('GPU'):\n",
        "            tf.config.experimental.set_memory_growth(gpu, True)\n",
        "        print(\"GPU memory growth enabled\")\n",
        "    except RuntimeError as e:\n",
        "        print(f\"GPU memory growth error: {e}\")\n"
      ]
    },
    {
      "cell_type": "code",
      "execution_count": null,
      "metadata": {},
      "outputs": [],
      "source": [
        "# Install required packages\n",
        "!pip install -q yfinance alpha-vantage pandas-datareader\n",
        "!pip install -q TA-Lib\n",
        "!pip install -q tensorflow-gpu\n",
        "!pip install -q torch torchvision\n",
        "!pip install -q scikit-learn xgboost optuna lightgbm\n",
        "!pip install -q backtrader zipline-reloaded arch quantlib\n",
        "!pip install -q plotly matplotlib seaborn streamlit\n",
        "!pip install -q empyrical ffn pyfolio\n",
        "!pip install -q python-dotenv requests tqdm joblib\n",
        "\n",
        "print(\"All packages installed successfully!\")\n"
      ]
    },
    {
      "cell_type": "code",
      "execution_count": null,
      "metadata": {},
      "outputs": [],
      "source": [
        "# Clone the repository (replace with your GitHub URL)\n",
        "!git clone https://github.com/CatalinMoldova/trading-strategy-ml.git\n",
        "\n",
        "# Change to the project directory\n",
        "%cd trading-strategy-ml\n",
        "\n",
        "# Install project requirements\n",
        "!pip install -r requirements_colab.txt\n",
        "\n",
        "print(\"Repository cloned and requirements installed!\")\n"
      ]
    },
    {
      "cell_type": "markdown",
      "metadata": {},
      "source": [
        "## 2. Import Libraries and Setup\n"
      ]
    },
    {
      "cell_type": "code",
      "execution_count": null,
      "metadata": {},
      "outputs": [],
      "source": [
        "# Import necessary libraries\n",
        "import sys\n",
        "import os\n",
        "import pandas as pd\n",
        "import numpy as np\n",
        "import matplotlib.pyplot as plt\n",
        "import seaborn as sns\n",
        "import plotly.graph_objects as go\n",
        "from plotly.subplots import make_subplots\n",
        "import warnings\n",
        "warnings.filterwarnings('ignore')\n",
        "\n",
        "# Add project src to path\n",
        "sys.path.append('src')\n",
        "\n",
        "# Import project modules\n",
        "from data_pipeline.market_data_collector import MarketDataCollector\n",
        "from data_pipeline.indicator_engine import IndicatorEngine\n",
        "from data_pipeline.feature_engineer import FeatureEngineer\n",
        "from ml_models.cnn_lstm_model import CNNLSTMModel\n",
        "from ml_models.random_forest_model import RandomForestModel\n",
        "from ml_models.ensemble_predictor import EnsemblePredictor\n",
        "from strategy.signal_generator import SignalGenerator\n",
        "from strategy.position_sizer import PositionSizer\n",
        "from strategy.risk_manager import RiskManager\n",
        "from backtesting.backtest_engine import BacktestEngine\n",
        "from backtesting.performance_analyzer import PerformanceAnalyzer\n",
        "\n",
        "print(\"All libraries imported successfully!\")\n",
        "print(f\"TensorFlow version: {tf.__version__}\")\n",
        "print(f\"GPU devices: {tf.config.list_physical_devices('GPU')}\")\n"
      ]
    },
    {
      "cell_type": "markdown",
      "metadata": {},
      "source": [
        "## 3. Data Collection and Preparation\n"
      ]
    },
    {
      "cell_type": "code",
      "execution_count": null,
      "metadata": {},
      "outputs": [],
      "source": [
        "# Initialize data collector\n",
        "collector = MarketDataCollector()\n",
        "\n",
        "# Define symbols to trade\n",
        "symbols = ['AAPL', 'MSFT', 'GOOGL', 'AMZN', 'TSLA', 'NVDA', 'META', 'NFLX']\n",
        "\n",
        "# Collect historical data\n",
        "print(\"Collecting historical data...\")\n",
        "data = {}\n",
        "for symbol in symbols:\n",
        "    try:\n",
        "        df = collector.get_historical_data(symbol, period='2y', interval='1d')\n",
        "        data[symbol] = df\n",
        "        print(f\"✓ {symbol}: {len(df)} records\")\n",
        "    except Exception as e:\n",
        "        print(f\"✗ {symbol}: Error - {e}\")\n",
        "\n",
        "print(f\"\\nData collection complete! Collected data for {len(data)} symbols.\")\n"
      ]
    },
    {
      "cell_type": "markdown",
      "metadata": {},
      "source": [
        "## 4. Model Training with GPU\n"
      ]
    },
    {
      "cell_type": "code",
      "execution_count": null,
      "metadata": {},
      "outputs": [],
      "source": [
        "# Train CNN+LSTM model with GPU\n",
        "print(\"Training CNN+LSTM model...\")\n",
        "\n",
        "# Initialize model\n",
        "cnn_lstm = CNNLSTMModel(\n",
        "    time_steps=60,\n",
        "    n_features=20,  # Adjust based on your features\n",
        "    learning_rate=0.001\n",
        ")\n",
        "\n",
        "# Build model\n",
        "model = cnn_lstm.build_model()\n",
        "print(f\"Model built with {model.count_params()} parameters\")\n",
        "\n",
        "# Prepare training data (simplified example)\n",
        "# In practice, you'd use your actual processed data\n",
        "X_train = np.random.randn(1000, 60, 20)  # Example data\n",
        "y_train = np.random.randn(1000, 1)        # Example targets\n",
        "\n",
        "# Train model\n",
        "history = cnn_lstm.train(\n",
        "    X_train, y_train,\n",
        "    epochs=10,  # Reduced for demo\n",
        "    batch_size=32,\n",
        "    validation_split=0.2\n",
        ")\n",
        "\n",
        "print(\"CNN+LSTM training complete!\")\n",
        "\n",
        "# Plot training history\n",
        "plt.figure(figsize=(12, 4))\n",
        "plt.subplot(1, 2, 1)\n",
        "plt.plot(history.history['loss'], label='Training Loss')\n",
        "plt.plot(history.history['val_loss'], label='Validation Loss')\n",
        "plt.title('Model Loss')\n",
        "plt.xlabel('Epoch')\n",
        "plt.ylabel('Loss')\n",
        "plt.legend()\n",
        "\n",
        "plt.subplot(1, 2, 2)\n",
        "plt.plot(history.history['mae'], label='Training MAE')\n",
        "plt.plot(history.history['val_mae'], label='Validation MAE')\n",
        "plt.title('Model MAE')\n",
        "plt.xlabel('Epoch')\n",
        "plt.ylabel('MAE')\n",
        "plt.legend()\n",
        "\n",
        "plt.tight_layout()\n",
        "plt.show()\n"
      ]
    },
    {
      "cell_type": "markdown",
      "metadata": {},
      "source": [
        "## 5. Save Your Work\n"
      ]
    },
    {
      "cell_type": "code",
      "execution_count": null,
      "metadata": {},
      "outputs": [],
      "source": [
        "# Save models\n",
        "cnn_lstm.save_model('cnn_lstm_model.h5')\n",
        "print(\"CNN+LSTM model saved!\")\n",
        "\n",
        "# Download the model to your local machine\n",
        "from google.colab import files\n",
        "files.download('cnn_lstm_model.h5')\n",
        "\n",
        "print(\"Model downloaded successfully!\")\n"
      ]
    }
  ],
  "metadata": {
    "language_info": {
      "name": "python"
    }
  },
  "nbformat": 4,
  "nbformat_minor": 2
}
